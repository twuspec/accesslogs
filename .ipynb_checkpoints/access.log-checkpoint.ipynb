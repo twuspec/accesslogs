{
 "cells": [
  {
   "cell_type": "markdown",
   "metadata": {},
   "source": [
    "åbne access.log.1\n",
    "find unikke ip-adresser og udregn besøgsfrekvensen\n"
   ]
  },
  {
   "cell_type": "code",
   "execution_count": 11,
   "metadata": {},
   "outputs": [
    {
     "name": "stdout",
     "output_type": "stream",
     "text": [
      "No mathc\n",
      "67.210.109.180 \n",
      "No mathc\n",
      "184.168.152.202 \n",
      "No mathc\n",
      "95.166.8.157 \n",
      "No mathc\n",
      "67.210.109.180 \n",
      "No mathc\n",
      "61.221.208.85 \n",
      "No mathc\n",
      "61.221.208.85 \n",
      "No mathc\n",
      "65.52.225.90 \n",
      "No mathc\n",
      "173.201.196.10 \n",
      "No mathc\n",
      "97.74.24.10 \n"
     ]
    }
   ],
   "source": [
    "import re\n",
    "\n",
    "with open('/Volumes/NO NAME/Data/accesslogs/test.log') as fh:\n",
    "    line = fh.readline()\n",
    "    cnt=1\n",
    "    res = dict()\n",
    "    while cnt < 10:\n",
    "        #print(\"{}: {}\".format(cnt,line))\n",
    "        ip = re.search(\"^[0-9.]+ \",line)\n",
    "        if (ip.group in res.keys()):\n",
    "            print(\"match\")\n",
    "        else:\n",
    "            print(\"No mathc\")\n",
    "            \n",
    "        print(\"res: \" + ip.group())\n",
    "        line = fh.readline()\n",
    "        cnt += 1\n"
   ]
  },
  {
   "cell_type": "code",
   "execution_count": null,
   "metadata": {},
   "outputs": [],
   "source": []
  }
 ],
 "metadata": {
  "kernelspec": {
   "display_name": "Python 3",
   "language": "python",
   "name": "python3"
  },
  "language_info": {
   "codemirror_mode": {
    "name": "ipython",
    "version": 3
   },
   "file_extension": ".py",
   "mimetype": "text/x-python",
   "name": "python",
   "nbconvert_exporter": "python",
   "pygments_lexer": "ipython3",
   "version": "3.7.3"
  }
 },
 "nbformat": 4,
 "nbformat_minor": 2
}
