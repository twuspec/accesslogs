{
 "cells": [
  {
   "cell_type": "markdown",
   "metadata": {},
   "source": [
    "åbne access.log.1\n",
    "find unikke ip-adresser og udregn besøgsfrekvensen\n"
   ]
  },
  {
   "cell_type": "code",
   "execution_count": 24,
   "metadata": {},
   "outputs": [
    {
     "name": "stdout",
     "output_type": "stream",
     "text": [
      "<class 'str'>\n",
      "1\n",
      "No mathc\n",
      "res: 67.210.109.180 \n",
      "dict_keys(['67.210.109.180 '])\n",
      "<class 'str'>\n",
      "2\n",
      "No mathc\n",
      "res: 184.168.152.202 \n",
      "dict_keys(['67.210.109.180 ', '184.168.152.202 '])\n",
      "<class 'str'>\n",
      "3\n",
      "No mathc\n",
      "res: 95.166.8.157 \n",
      "dict_keys(['67.210.109.180 ', '184.168.152.202 ', '95.166.8.157 '])\n",
      "<class 'str'>\n",
      "4\n",
      "XXXX\n",
      "res: 67.210.109.180 \n",
      "dict_keys(['67.210.109.180 ', '184.168.152.202 ', '95.166.8.157 '])\n",
      "<class 'str'>\n",
      "5\n",
      "No mathc\n",
      "res: 61.221.208.85 \n",
      "dict_keys(['67.210.109.180 ', '184.168.152.202 ', '95.166.8.157 ', '61.221.208.85 '])\n",
      "<class 'str'>\n",
      "6\n",
      "XXXX\n",
      "res: 61.221.208.85 \n",
      "dict_keys(['67.210.109.180 ', '184.168.152.202 ', '95.166.8.157 ', '61.221.208.85 '])\n",
      "<class 'str'>\n",
      "7\n",
      "No mathc\n",
      "res: 65.52.225.90 \n",
      "dict_keys(['67.210.109.180 ', '184.168.152.202 ', '95.166.8.157 ', '61.221.208.85 ', '65.52.225.90 '])\n",
      "<class 'str'>\n",
      "8\n",
      "No mathc\n",
      "res: 173.201.196.10 \n",
      "dict_keys(['67.210.109.180 ', '184.168.152.202 ', '95.166.8.157 ', '61.221.208.85 ', '65.52.225.90 ', '173.201.196.10 '])\n",
      "<class 'str'>\n",
      "9\n",
      "No mathc\n",
      "res: 97.74.24.10 \n",
      "dict_keys(['67.210.109.180 ', '184.168.152.202 ', '95.166.8.157 ', '61.221.208.85 ', '65.52.225.90 ', '173.201.196.10 ', '97.74.24.10 '])\n",
      "{'67.210.109.180 ': 2, '184.168.152.202 ': 1, '95.166.8.157 ': 1, '61.221.208.85 ': 2, '65.52.225.90 ': 1, '173.201.196.10 ': 1, '97.74.24.10 ': 1}\n"
     ]
    }
   ],
   "source": [
    "import re\n",
    "\n",
    "with open('/Volumes/NO NAME/Data/accesslogs/test.log') as fh:\n",
    "    line = fh.readline()\n",
    "    cnt=1\n",
    "    ipcnt=1\n",
    "    res = dict()\n",
    "    while cnt < 10:\n",
    "        #print(\"{}: {}\".format(cnt,line))\n",
    "        ip = re.search(\"^[0-9.]+ \",line)\n",
    "        print(type(ip.group()))\n",
    "        print(cnt)\n",
    "        if (ip.group() in res.keys()):\n",
    "            res[ip.group()] += 1\n",
    "            print(\"XXXX\")\n",
    "        else: \n",
    "            print(\"No mathc\")\n",
    "            res[ip.group()] = 1\n",
    "            \n",
    "        #res[ip.group()] = ipcnt\n",
    "        #print(ipcnt)\n",
    "        print(\"res: \" + ip.group())\n",
    "        print(res.keys())\n",
    "        line = fh.readline()\n",
    "        cnt += 1\n",
    "    print(res)\n",
    "fh.close()\n"
   ]
  },
  {
   "cell_type": "code",
   "execution_count": null,
   "metadata": {},
   "outputs": [],
   "source": []
  },
  {
   "cell_type": "code",
   "execution_count": null,
   "metadata": {},
   "outputs": [],
   "source": []
  }
 ],
 "metadata": {
  "kernelspec": {
   "display_name": "Python 3",
   "language": "python",
   "name": "python3"
  },
  "language_info": {
   "codemirror_mode": {
    "name": "ipython",
    "version": 3
   },
   "file_extension": ".py",
   "mimetype": "text/x-python",
   "name": "python",
   "nbconvert_exporter": "python",
   "pygments_lexer": "ipython3",
   "version": "3.7.3"
  }
 },
 "nbformat": 4,
 "nbformat_minor": 2
}
